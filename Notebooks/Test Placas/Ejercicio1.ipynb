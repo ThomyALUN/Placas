{
 "cells": [
  {
   "cell_type": "markdown",
   "metadata": {},
   "source": [
    "**0. Importar todos los módulos necesarios**"
   ]
  },
  {
   "cell_type": "code",
   "execution_count": null,
   "metadata": {},
   "outputs": [],
   "source": [
    "import cv2 \n",
    "from matplotlib import pyplot as plt\n",
    "import numpy as np\n",
    "import imutils\n",
    "import easyocr"
   ]
  },
  {
   "cell_type": "markdown",
   "metadata": {},
   "source": [
    "**1. Leer la imagen, escala de grises (Grayscale) y Desenfocar/Nublar (blur)**"
   ]
  },
  {
   "cell_type": "code",
   "execution_count": null,
   "metadata": {},
   "outputs": [],
   "source": [
    "imagen=cv2.imread('image6.jpg') #Se lee la imagen\n",
    "gris=cv2.cvtColor(imagen, cv2.COLOR_BGR2GRAY) #CV2 lee la imagen en código BGR y luego lo pasamos a gris\n",
    "plt.imshow(cv2.cvtColor(gris, cv2.COLOR_BGR2RGB)) #Se transforma la imagen a formato RGB ya que es el formato esperado por matplotlib y se muestra"
   ]
  },
  {
   "cell_type": "markdown",
   "metadata": {},
   "source": [
    "**2. Aplicar filtros y encontrar bordes para localizar la información importante**"
   ]
  },
  {
   "cell_type": "code",
   "execution_count": null,
   "metadata": {},
   "outputs": [],
   "source": [
    "filtradoBilateral=cv2.bilateralFilter(gris, 11, 17, 17) #Reducción de ruido en la imagen\n",
    "imagenBordeada=cv2.Canny(filtradoBilateral, 30, 200) #Detectar bordes en la imagen con el algoritmo Canny\n",
    "plt.imshow(cv2.cvtColor(imagenBordeada, cv2.COLOR_BGR2RGB)) #Se muestra la imagen sin ruido y con solo sus bordes"
   ]
  },
  {
   "cell_type": "markdown",
   "metadata": {},
   "source": [
    "**3. Encontrar contornos y aplicar máscara**"
   ]
  },
  {
   "cell_type": "code",
   "execution_count": null,
   "metadata": {},
   "outputs": [],
   "source": [
    "puntosClave=cv2.findContours(imagenBordeada.copy(), cv2.RETR_TREE, cv2.CHAIN_APPROX_SIMPLE) #Encontramos los contornos.\n",
    "contornos=imutils.grab_contours(puntosClave) #Se obtienen los contornos de la imagen.\n",
    "contornos=sorted(contornos, key=cv2.contourArea, reverse=True)[:10] #Se toma los contornos más grandes."
   ]
  },
  {
   "cell_type": "code",
   "execution_count": null,
   "metadata": {},
   "outputs": [],
   "source": [
    "ubicacion=None\n",
    "#Se itera entre los contornos obtenidos en la sección anterior\n",
    "for contorno in contornos:                      \n",
    "    aprox=cv2.approxPolyDP(contorno, 10, True)\n",
    "    if len(aprox)==4:                         #La longitud corresponde con el número de vertices de la figura\n",
    "        #Se selecciona el primer contorno que corresponda a un cuadrilátero/rectángulo.                           \n",
    "        ubicacion=aprox\n",
    "        break\n",
    "ubicacion"
   ]
  },
  {
   "cell_type": "code",
   "execution_count": null,
   "metadata": {},
   "outputs": [],
   "source": [
    "mascara=np.zeros(gris.shape, np.uint8) #Se crea una máscara vacía con el mismo tamaño de la imagen original\n",
    "nuevaImagen=cv2.drawContours(mascara, [ubicacion], 0, 255, -1) #Se dibujan esos contornos sobre la máscara\n",
    "nuevaImagen=cv2.bitwise_and(imagen, imagen, mask=mascara) #Se sobrepone la máscara sobre la imagen original\n",
    "plt.imshow(cv2.cvtColor(nuevaImagen, cv2.COLOR_BGR2RGB)) #Se muestra el resultado"
   ]
  },
  {
   "cell_type": "code",
   "execution_count": null,
   "metadata": {},
   "outputs": [],
   "source": [
    "(x,y)=np.where(mascara==255) #Se halla la ubicación dentro de la imagen donde se encuentra la placa\n",
    "(x1,y1)=(np.min(x),np.min(y)) #Se halla el valor mínimo de las coordenadas horizontales y verticales\n",
    "(x2,y2)=(np.max(x),np.max(y)) #Se halla el valor máximo de las coordenadas horizontales y verticales\n",
    "imagenRecortada=gris[x1:x2+1,y1:y2+1] #Se extrae la región de la imagen donde se encuentra la placa\n",
    "plt.imshow(cv2.cvtColor(imagenRecortada, cv2.COLOR_BGR2RGB)) #Se muestra el resultado"
   ]
  },
  {
   "cell_type": "markdown",
   "metadata": {},
   "source": [
    "**4. Usar EasyOCR para leer el texto**"
   ]
  },
  {
   "cell_type": "code",
   "execution_count": null,
   "metadata": {},
   "outputs": [],
   "source": [
    "lector = easyocr.Reader(['es'])\n",
    "resultado = lector.readtext(imagenRecortada)\n",
    "resultado"
   ]
  },
  {
   "cell_type": "markdown",
   "metadata": {},
   "source": [
    "**5. Separar el resultado**"
   ]
  },
  {
   "cell_type": "code",
   "execution_count": null,
   "metadata": {},
   "outputs": [],
   "source": [
    "texto=[]\n",
    "for lista in resultado:\n",
    "    texto.append(lista[-2])\n",
    "texto"
   ]
  }
 ],
 "metadata": {
  "kernelspec": {
   "display_name": "Python 3.8.3 64-bit (system)",
   "language": "python",
   "name": "python3"
  },
  "language_info": {
   "codemirror_mode": {
    "name": "ipython",
    "version": 3
   },
   "file_extension": ".py",
   "mimetype": "text/x-python",
   "name": "python",
   "nbconvert_exporter": "python",
   "pygments_lexer": "ipython3",
   "version": "3.8.3"
  },
  "orig_nbformat": 4,
  "vscode": {
   "interpreter": {
    "hash": "cf90cbbb815e894b75ce2847351577e6d1e0a5057e3f6f98cc847be3b5db7ea3"
   }
  }
 },
 "nbformat": 4,
 "nbformat_minor": 2
}
